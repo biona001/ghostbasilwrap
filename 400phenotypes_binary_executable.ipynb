{
 "cells": [
  {
   "cell_type": "markdown",
   "id": "c49abb6f",
   "metadata": {},
   "source": [
    "# Write C++ wrapper for ghostbasil\n",
    "\n",
    "`ml cmake/3.11.1 gcc/12.1.0 julia/1.8.4`\n",
    "\n",
    "1. We will be using [CxxWrap.jl](https://github.com/JuliaInterop/CxxWrap.jl) to call C++ code within Julia. \n",
    "2. First, we must create a `libcxxwrap_julia_jll` JLL library, following [its github instructions](https://github.com/JuliaInterop/libcxxwrap-julia). \n",
    "3. Once it's done, I got a folder `/home/groups/sabatti/.julia/dev/libcxxwrap_julia_jll/override`\n",
    "\n",
    "## Hello world example\n",
    "\n",
    "Here is my `hello.cpp` file:\n",
    "```cpp\n",
    "#include <string>\n",
    "#include \"jlcxx/jlcxx.hpp\"\n",
    "\n",
    "std::string greet()\n",
    "{\n",
    "   return \"hello, world\";\n",
    "}\n",
    "\n",
    "JLCXX_MODULE define_julia_module(jlcxx::Module& mod)\n",
    "{\n",
    "  mod.method(\"greet\", &greet);\n",
    "}\n",
    "```\n",
    "\n",
    "And here is the `CMakeLists.txt` file:\n",
    "\n",
    "```cmake\n",
    "project(HelloWorld)\n",
    "\n",
    "cmake_minimum_required(VERSION 3.5)\n",
    "set(CMAKE_MACOSX_RPATH 1)\n",
    "set(CMAKE_LIBRARY_OUTPUT_DIRECTORY \"${CMAKE_BINARY_DIR}/lib\")\n",
    "\n",
    "find_package(JlCxx)\n",
    "get_target_property(JlCxx_location JlCxx::cxxwrap_julia LOCATION)\n",
    "get_filename_component(JlCxx_location ${JlCxx_location} DIRECTORY)\n",
    "set(CMAKE_INSTALL_RPATH \"${CMAKE_INSTALL_PREFIX}/lib;${JlCxx_location}\")\n",
    "\n",
    "message(STATUS \"Found JlCxx at ${JlCxx_location}\")\n",
    "\n",
    "add_library(hello SHARED hello.cpp)\n",
    "\n",
    "target_link_libraries(hello JlCxx::cxxwrap_julia)\n",
    "\n",
    "install(TARGETS\n",
    "  hello\n",
    "LIBRARY DESTINATION lib\n",
    "ARCHIVE DESTINATION lib\n",
    "RUNTIME DESTINATION lib)\n",
    "```\n",
    "\n",
    "Given these 2 files, we build the shared library (`.io`) file as\n",
    "```\n",
    "mkdir build && cd build\n",
    "cmake -DCMAKE_BUILD_TYPE=Release -DCMAKE_PREFIX_PATH=/home/groups/sabatti/.julia/dev/libcxxwrap_julia_jll/override /home/users/bbchu/ghostbasilwrap\n",
    "cmake --build . --config Release\n",
    "```\n",
    "Finally, we can call hello world in Julia:"
   ]
  },
  {
   "cell_type": "code",
   "execution_count": 1,
   "id": "7d277ca1",
   "metadata": {},
   "outputs": [
    {
     "name": "stdout",
     "output_type": "stream",
     "text": [
      "CppHello.greet() = \"hello, world\"\n"
     ]
    },
    {
     "data": {
      "text/plain": [
       "\"hello, world\""
      ]
     },
     "execution_count": 1,
     "metadata": {},
     "output_type": "execute_result"
    }
   ],
   "source": [
    "# Load the module and generate the functions\n",
    "module CppHello\n",
    "using CxxWrap\n",
    "@wrapmodule(joinpath(\"/home/users/bbchu/ghostbasilwrap/build/lib/libhello\"))\n",
    "\n",
    "function __init__()\n",
    "    @initcxx\n",
    "end\n",
    "end\n",
    "\n",
    "# Call greet and show the result\n",
    "@show CppHello.greet()"
   ]
  },
  {
   "cell_type": "code",
   "execution_count": null,
   "id": "63edf065",
   "metadata": {},
   "outputs": [],
   "source": []
  },
  {
   "cell_type": "code",
   "execution_count": null,
   "id": "9719e802",
   "metadata": {},
   "outputs": [],
   "source": []
  },
  {
   "cell_type": "code",
   "execution_count": null,
   "id": "82eb5364",
   "metadata": {},
   "outputs": [],
   "source": []
  },
  {
   "cell_type": "code",
   "execution_count": null,
   "id": "c8b2568d",
   "metadata": {},
   "outputs": [],
   "source": []
  },
  {
   "cell_type": "code",
   "execution_count": null,
   "id": "3ee82f0c",
   "metadata": {},
   "outputs": [],
   "source": []
  }
 ],
 "metadata": {
  "kernelspec": {
   "display_name": "Julia 1.8.4",
   "language": "julia",
   "name": "julia-1.8"
  },
  "language_info": {
   "file_extension": ".jl",
   "mimetype": "application/julia",
   "name": "julia",
   "version": "1.8.4"
  }
 },
 "nbformat": 4,
 "nbformat_minor": 5
}
