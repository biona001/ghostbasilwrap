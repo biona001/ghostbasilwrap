{
 "cells": [
  {
   "cell_type": "markdown",
   "id": "c49abb6f",
   "metadata": {},
   "source": [
    "# Write C++ wrapper for ghostbasil\n",
    "\n",
    "`ml cmake/3.11.1 gcc/12.1.0 julia/1.8.4`\n",
    "\n",
    "1. We will be using [CxxWrap.jl](https://github.com/JuliaInterop/CxxWrap.jl) to call C++ code within Julia. \n",
    "2. First, we must create a `libcxxwrap_julia_jll` JLL library, following [its github instructions](https://github.com/JuliaInterop/libcxxwrap-julia). \n",
    "3. Once it's done, I got a folder `/home/groups/sabatti/.julia/dev/libcxxwrap_julia_jll/override`\n",
    "\n",
    "## Hello world example\n",
    "\n",
    "Here is my `hello.cpp` file:\n",
    "```cpp\n",
    "#include <string>\n",
    "#include \"jlcxx/jlcxx.hpp\"\n",
    "\n",
    "std::string greet()\n",
    "{\n",
    "   return \"hello, world\";\n",
    "}\n",
    "\n",
    "JLCXX_MODULE define_julia_module(jlcxx::Module& mod)\n",
    "{\n",
    "  mod.method(\"greet\", &greet);\n",
    "}\n",
    "```\n",
    "\n",
    "And here is the `CMakeLists.txt` file:\n",
    "\n",
    "```cmake\n",
    "project(HelloWorld)\n",
    "\n",
    "cmake_minimum_required(VERSION 3.5)\n",
    "set(CMAKE_MACOSX_RPATH 1)\n",
    "set(CMAKE_LIBRARY_OUTPUT_DIRECTORY \"${CMAKE_BINARY_DIR}/lib\")\n",
    "\n",
    "find_package(JlCxx)\n",
    "get_target_property(JlCxx_location JlCxx::cxxwrap_julia LOCATION)\n",
    "get_filename_component(JlCxx_location ${JlCxx_location} DIRECTORY)\n",
    "set(CMAKE_INSTALL_RPATH \"${CMAKE_INSTALL_PREFIX}/lib;${JlCxx_location}\")\n",
    "\n",
    "message(STATUS \"Found JlCxx at ${JlCxx_location}\")\n",
    "\n",
    "add_library(hello SHARED hello.cpp)\n",
    "\n",
    "target_link_libraries(hello JlCxx::cxxwrap_julia)\n",
    "\n",
    "install(TARGETS\n",
    "  hello\n",
    "LIBRARY DESTINATION lib\n",
    "ARCHIVE DESTINATION lib\n",
    "RUNTIME DESTINATION lib)\n",
    "```\n",
    "\n",
    "Given these 2 files, we build the shared library (`.io`) file as\n",
    "```\n",
    "mkdir build && cd build\n",
    "cmake -DCMAKE_BUILD_TYPE=Release -DCMAKE_PREFIX_PATH=/home/groups/sabatti/.julia/dev/libcxxwrap_julia_jll/override /home/users/bbchu/ghostbasilwrap\n",
    "cmake --build . --config Release\n",
    "```\n",
    "Finally, we can call hello world in Julia:"
   ]
  },
  {
   "cell_type": "code",
   "execution_count": 1,
   "id": "e5f6f3e7",
   "metadata": {},
   "outputs": [
    {
     "data": {
      "text/plain": [
       "\"hello, world\""
      ]
     },
     "execution_count": 1,
     "metadata": {},
     "output_type": "execute_result"
    }
   ],
   "source": [
    "# Load the module and generate the functions\n",
    "module CppHello\n",
    "using CxxWrap\n",
    "@wrapmodule(\"/home/users/bbchu/ghostbasilwrap/build/lib/libhello\")\n",
    "\n",
    "function __init__()\n",
    "    @initcxx\n",
    "end\n",
    "end\n",
    "\n",
    "# Call greet and show the result\n",
    "CppHello.greet()"
   ]
  },
  {
   "cell_type": "markdown",
   "id": "f00be426",
   "metadata": {},
   "source": [
    "## Pass vector from Julia into C++, calculate the sum, and return answer\n",
    "\n",
    "First create `sumarray.cpp`\n",
    "\n",
    "```cpp\n",
    "#include \"jlcxx/jlcxx.hpp\"\n",
    "#include <vector>\n",
    "#include <iostream>\n",
    "using namespace std;\n",
    "\n",
    "double cpp_mat_sum(jlcxx::ArrayRef<double, 2> x) {\n",
    "    cout << &x[0] << endl; // print memory address of x\n",
    "    double total = 0;\n",
    "    for(auto xij : x) {\n",
    "        total += xij;\n",
    "    }\n",
    "    return total;\n",
    "}\n",
    "\n",
    "JLCXX_MODULE define_julia_module(jlcxx::Module& mod)\n",
    "{\n",
    "    mod.method(\"cpp_mat_sum\", &cpp_mat_sum);\n",
    "}\n",
    "```\n",
    "\n",
    "Then create `CMakeLists.txt` file\n",
    "\n",
    "```cmake\n",
    "project(Examples)\n",
    "\n",
    "cmake_minimum_required(VERSION 3.5)\n",
    "set(CMAKE_MACOSX_RPATH 1)\n",
    "set(CMAKE_LIBRARY_OUTPUT_DIRECTORY \"${CMAKE_BINARY_DIR}/lib\")\n",
    "\n",
    "find_package(JlCxx)\n",
    "get_target_property(JlCxx_location JlCxx::cxxwrap_julia LOCATION)\n",
    "get_filename_component(JlCxx_location ${JlCxx_location} DIRECTORY)\n",
    "set(CMAKE_INSTALL_RPATH \"${CMAKE_INSTALL_PREFIX}/lib;${JlCxx_location}\")\n",
    "\n",
    "message(STATUS \"Found JlCxx at ${JlCxx_location}\")\n",
    "\n",
    "add_library(hello SHARED hello.cpp)\n",
    "add_library(sumarray SHARED sumarray.cpp)\n",
    "\n",
    "target_link_libraries(hello JlCxx::cxxwrap_julia)\n",
    "target_link_libraries(sumarray JlCxx::cxxwrap_julia)\n",
    "\n",
    "install(TARGETS\n",
    "  hello sumarray \n",
    "LIBRARY DESTINATION lib\n",
    "ARCHIVE DESTINATION lib\n",
    "RUNTIME DESTINATION lib)\n",
    "```\n",
    "Given these 2 files, we build the shared library (`.io`) file as\n",
    "```\n",
    "mkdir build && cd build\n",
    "cmake -DCMAKE_BUILD_TYPE=Release -DCMAKE_PREFIX_PATH=/home/groups/sabatti/.julia/dev/libcxxwrap_julia_jll/override /home/users/bbchu/ghostbasilwrap\n",
    "cmake --build . --config Release\n",
    "```\n",
    "Finally, we can call both `hello` and `sumarray`:"
   ]
  },
  {
   "cell_type": "code",
   "execution_count": 1,
   "id": "82eb5364",
   "metadata": {},
   "outputs": [
    {
     "data": {
      "text/plain": [
       "\"hello, world\""
      ]
     },
     "execution_count": 1,
     "metadata": {},
     "output_type": "execute_result"
    }
   ],
   "source": [
    "module CppHello\n",
    "using CxxWrap\n",
    "@wrapmodule(\"/home/users/bbchu/ghostbasilwrap/build/lib/libhello\")\n",
    "\n",
    "function __init__()\n",
    "    @initcxx\n",
    "end\n",
    "end\n",
    "\n",
    "# Call greet and show the result\n",
    "CppHello.greet()"
   ]
  },
  {
   "cell_type": "code",
   "execution_count": 2,
   "id": "c8b2568d",
   "metadata": {},
   "outputs": [
    {
     "name": "stdout",
     "output_type": "stream",
     "text": [
      "0x7f76084ff040\n"
     ]
    },
    {
     "data": {
      "text/plain": [
       "-2957.256808475831"
      ]
     },
     "execution_count": 2,
     "metadata": {},
     "output_type": "execute_result"
    }
   ],
   "source": [
    "module CppSumArray\n",
    "using CxxWrap\n",
    "@wrapmodule(\"/home/users/bbchu/ghostbasilwrap/build/lib/libsumarray\")\n",
    "\n",
    "function __init__()\n",
    "    @initcxx\n",
    "end\n",
    "end\n",
    "\n",
    "x = randn(10000, 10000)\n",
    "CppSumArray.cpp_mat_sum(x)"
   ]
  },
  {
   "cell_type": "code",
   "execution_count": 3,
   "id": "3ee82f0c",
   "metadata": {},
   "outputs": [
    {
     "data": {
      "text/plain": [
       "-2957.2568084772065"
      ]
     },
     "execution_count": 3,
     "metadata": {},
     "output_type": "execute_result"
    }
   ],
   "source": [
    "sum(x)"
   ]
  },
  {
   "cell_type": "code",
   "execution_count": 4,
   "id": "a4cc0607",
   "metadata": {},
   "outputs": [
    {
     "data": {
      "text/plain": [
       "Ptr{Float64} @0x00007f76084ff040"
      ]
     },
     "execution_count": 4,
     "metadata": {},
     "output_type": "execute_result"
    }
   ],
   "source": [
    "pointer(x)"
   ]
  },
  {
   "cell_type": "code",
   "execution_count": null,
   "id": "d9c1f12e",
   "metadata": {},
   "outputs": [],
   "source": []
  }
 ],
 "metadata": {
  "kernelspec": {
   "display_name": "Julia 1.8.4",
   "language": "julia",
   "name": "julia-1.8"
  },
  "language_info": {
   "file_extension": ".jl",
   "mimetype": "application/julia",
   "name": "julia",
   "version": "1.8.4"
  }
 },
 "nbformat": 4,
 "nbformat_minor": 5
}
